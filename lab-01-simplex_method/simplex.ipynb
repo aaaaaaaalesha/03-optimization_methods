{
 "cells": [
  {
   "cell_type": "markdown",
   "metadata": {
    "pycharm": {
     "name": "#%% md\n"
    }
   },
   "source": [
    "# ЛР1. ЛП. Симплекс-метод. Вариант 1."
   ]
  },
  {
   "cell_type": "markdown",
   "metadata": {},
   "source": [
    "## Выполнил: студент группы ИУ8-34, Александров Алексей"
   ]
  },
  {
   "cell_type": "markdown",
   "metadata": {},
   "source": [
    "### Условие задачи:\n",
    "Найти вектор $x = (x_1, x_2, x_3)^T$ как решение задачи:\n",
    "\n",
    "\\begin{equation}\n",
    "    F = cx \\rightarrow \\max,\n",
    "\\end{equation}\n",
    "\n",
    "\\begin{equation}\n",
    "    Ax \\leqslant b,\n",
    "\\end{equation}\n",
    "\n",
    "\\begin{equation}\n",
    "    x_1, x_2, x_3 \\geqslant 0\n",
    "\\end{equation}\n",
    "\n",
    "### Вариант 1:\n",
    "\n",
    "\\begin{equation*}\n",
    "c = \\left(\n",
    "\\begin{array}{cccc}\n",
    "5& 6& 4\\\\\n",
    "\\end{array}\n",
    "\\right)\n",
    "\\end{equation*}\n",
    "    \n",
    "\\begin{equation*}\n",
    "A = \\left(\n",
    "\\begin{array}{cccc}\n",
    "1 & 1& 1\\\\\n",
    "1 & 3& 0\\\\\n",
    "0& 0.5& 4\n",
    "\\end{array}\n",
    "\\right)\n",
    "\\end{equation*}\n",
    "\n",
    "\\begin{equation*}\n",
    "b = \\left(\n",
    "\\begin{array}{cccc}\n",
    "7\\\\\n",
    "8\\\\\n",
    "6\n",
    "\\end{array}\n",
    "\\right)\n",
    "\\end{equation*}"
   ]
  },
  {
   "cell_type": "markdown",
   "metadata": {
    "pycharm": {
     "name": "#%%\n"
    }
   },
   "source": [
    "### Подключаем simplex.py, написанный нами.\n",
    "#### Выводим условие задачи."
   ]
  },
  {
   "cell_type": "code",
   "execution_count": 1,
   "metadata": {
    "pycharm": {
     "name": "#%%\n"
    }
   },
   "outputs": [
    {
     "name": "stdout",
     "output_type": "stream",
     "text": [
      "ЛР1 по МО. \"ЛП. Симплекс-метод.\n",
      "Условие задачи:\n",
      "------------------------------------------------------------\n",
      "Найти вектор x = (x1,x2,..., xn)^T как решение след. задачи:\n",
      "F = cx -> max,\n",
      "Ax <= b,\n",
      "x1,x2, ..., xn >= 0\n",
      "C = [-5 -6 -4],\n",
      "A =\n",
      "[[1.  1.  1. ]\n",
      " [1.  3.  0. ]\n",
      " [0.  0.5 4. ]],\n",
      "b^T = [7 8 6].\n",
      "------------------------------------------------------------\n"
     ]
    }
   ],
   "source": [
    "# Copyright 2020 Alexey Alexandrov <sks2311211@yandex.ru>\n",
    "from simplex import *\n",
    "\n",
    "if __name__ == '__main__':\n",
    "    problem = Simplex(\"input_data.json\")\n",
    "\n",
    "    print('ЛР1 по МО. \"ЛП. Симплекс-метод.', )\n",
    "    print(problem)"
   ]
  },
  {
   "cell_type": "markdown",
   "metadata": {},
   "source": []
  },
  {
   "cell_type": "markdown",
   "metadata": {},
   "source": [
    "### Находим опорное решение задачи."
   ]
  },
  {
   "cell_type": "code",
   "execution_count": 2,
   "metadata": {},
   "outputs": [
    {
     "name": "stdout",
     "output_type": "stream",
     "text": [
      "Процесс решения:\n",
      "1) Поиск опорного решения:\n",
      "Исходная симплекс-таблица:\n",
      "         Si0    x1    x2    x3\n",
      "    x4   7.0   1.0   1.0   1.0\n",
      "    x5   8.0   1.0   3.0   0.0\n",
      "    x6   6.0   0.0   0.5   4.0\n",
      "    F    0.0   5.0   6.0   4.0\n",
      "\n",
      "-----------\n",
      "Опорное решение найдено!\n",
      "x1 = x2 = x3 = 0, x4 =  7.0, x5 =  8.0, x6 =  6.0, \n",
      "Целевая функция: F = 0.0\n",
      "-----------\n"
     ]
    }
   ],
   "source": [
    "problem.reference_solution()"
   ]
  },
  {
   "cell_type": "markdown",
   "metadata": {},
   "source": [
    "### Находим оптимальное решение задачи."
   ]
  },
  {
   "cell_type": "code",
   "execution_count": 3,
   "metadata": {},
   "outputs": [
    {
     "name": "stdout",
     "output_type": "stream",
     "text": [
      "2) Поиск оптимального решения:\n",
      "Разрешающая строка: x0\n",
      "Разрешающий столбец: x1\n",
      "\n",
      "         Si0    x4    x2    x3\n",
      "    x1   7.0   1.0   1.0   1.0\n",
      "    x5   1.0  -1.0   2.0  -1.0\n",
      "    x6   6.0  -0.0   0.5   4.0\n",
      "    F  -35.0  -5.0   1.0  -1.0\n",
      "\n",
      "Разрешающая строка: x1\n",
      "Разрешающий столбец: x2\n",
      "\n",
      "         Si0    x4    x5    x3\n",
      "    x1   6.5   1.5  -0.5   1.5\n",
      "    x2   0.5  -0.5   0.5  -0.5\n",
      "    x6   5.8   0.2  -0.2   4.2\n",
      "    F  -35.5  -4.5  -0.5  -0.5\n",
      "\n",
      "-----------\n",
      "Оптимальное решение найдено!\n",
      "x4 = x5 = x3 = 0, x1 =  6.5, x2 =  0.5, x6 =  5.8, \n",
      "Целевая функция: F = 35.5\n",
      "-----------\n"
     ]
    }
   ],
   "source": [
    "problem.optimal_solution()"
   ]
  },
  {
   "cell_type": "markdown",
   "metadata": {},
   "source": [
    "## Итак оптимальное решение:\n",
    "-----------\n",
    "x4 = x5 = x3 = 0, x1 =  6.5, x2 =  0.5, x6 =  5.75, \n",
    "\n",
    "### **Целевая функция: F = 35.5**\n",
    "\n",
    "-----------"
   ]
  }
 ],
 "metadata": {
  "kernelspec": {
   "display_name": "Python 3",
   "language": "python",
   "name": "python3"
  },
  "language_info": {
   "codemirror_mode": {
    "name": "ipython",
    "version": 3
   },
   "file_extension": ".py",
   "mimetype": "text/x-python",
   "name": "python",
   "nbconvert_exporter": "python",
   "pygments_lexer": "ipython3",
   "version": "3.6.9"
  }
 },
 "nbformat": 4,
 "nbformat_minor": 2
}
